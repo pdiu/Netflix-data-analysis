{
 "cells": [
  {
   "cell_type": "markdown",
   "metadata": {},
   "source": [
    "# Netflix Data Analysis\n",
    "## Author: Phillip Liu\n",
    "\n",
    "Data Source: https://www.kaggle.com/shivamb/netflix-shows"
   ]
  },
  {
   "cell_type": "markdown",
   "metadata": {},
   "source": [
    "This is a personal project to practice and demonstrate data analysis and visualization skills using Python."
   ]
  },
  {
   "cell_type": "markdown",
   "metadata": {},
   "source": [
    "Questions I want answered:\n",
    "\n",
    "* What is the trend of number of movies over time versus number of tv shows over time?\n",
    "    \n",
    "* When did the most movies and most tv shows get added?\n",
    "    \n",
    "* What is the distribution of countries over time?\n",
    "    \n",
    "* Who has directed the most movies?\n",
    "    \n",
    "* Who has directed the most tv shows?\n",
    "    \n",
    "* What category of tv shows and movies are most prominent?"
   ]
  },
  {
   "cell_type": "code",
   "execution_count": 125,
   "metadata": {},
   "outputs": [
    {
     "data": {
      "text/html": [
       "<svg  width=\"550\" height=\"55\"><rect x=\"0\" y=\"0\" width=\"55\" height=\"55\" style=\"fill:#a1c9f4;stroke-width:2;stroke:rgb(255,255,255)\"/><rect x=\"55\" y=\"0\" width=\"55\" height=\"55\" style=\"fill:#ffb482;stroke-width:2;stroke:rgb(255,255,255)\"/><rect x=\"110\" y=\"0\" width=\"55\" height=\"55\" style=\"fill:#8de5a1;stroke-width:2;stroke:rgb(255,255,255)\"/><rect x=\"165\" y=\"0\" width=\"55\" height=\"55\" style=\"fill:#ff9f9b;stroke-width:2;stroke:rgb(255,255,255)\"/><rect x=\"220\" y=\"0\" width=\"55\" height=\"55\" style=\"fill:#d0bbff;stroke-width:2;stroke:rgb(255,255,255)\"/><rect x=\"275\" y=\"0\" width=\"55\" height=\"55\" style=\"fill:#debb9b;stroke-width:2;stroke:rgb(255,255,255)\"/><rect x=\"330\" y=\"0\" width=\"55\" height=\"55\" style=\"fill:#fab0e4;stroke-width:2;stroke:rgb(255,255,255)\"/><rect x=\"385\" y=\"0\" width=\"55\" height=\"55\" style=\"fill:#cfcfcf;stroke-width:2;stroke:rgb(255,255,255)\"/><rect x=\"440\" y=\"0\" width=\"55\" height=\"55\" style=\"fill:#fffea3;stroke-width:2;stroke:rgb(255,255,255)\"/><rect x=\"495\" y=\"0\" width=\"55\" height=\"55\" style=\"fill:#b9f2f0;stroke-width:2;stroke:rgb(255,255,255)\"/></svg>"
      ],
      "text/plain": [
       "[(0.6313725490196078, 0.788235294117647, 0.9568627450980393),\n",
       " (1.0, 0.7058823529411765, 0.5098039215686274),\n",
       " (0.5529411764705883, 0.8980392156862745, 0.6313725490196078),\n",
       " (1.0, 0.6235294117647059, 0.6078431372549019),\n",
       " (0.8156862745098039, 0.7333333333333333, 1.0),\n",
       " (0.8705882352941177, 0.7333333333333333, 0.6078431372549019),\n",
       " (0.9803921568627451, 0.6901960784313725, 0.8941176470588236),\n",
       " (0.8117647058823529, 0.8117647058823529, 0.8117647058823529),\n",
       " (1.0, 0.996078431372549, 0.6392156862745098),\n",
       " (0.7254901960784313, 0.9490196078431372, 0.9411764705882353)]"
      ]
     },
     "execution_count": 125,
     "metadata": {},
     "output_type": "execute_result"
    }
   ],
   "source": [
    "# Importing data analysis and visualization libraries\n",
    "\n",
    "import pandas as pd\n",
    "import numpy as np\n",
    "import matplotlib.pyplot as plt\n",
    "import seaborn as sns"
   ]
  },
  {
   "cell_type": "code",
   "execution_count": 126,
   "metadata": {},
   "outputs": [
    {
     "data": {
      "text/html": [
       "<div>\n",
       "<style scoped>\n",
       "    .dataframe tbody tr th:only-of-type {\n",
       "        vertical-align: middle;\n",
       "    }\n",
       "\n",
       "    .dataframe tbody tr th {\n",
       "        vertical-align: top;\n",
       "    }\n",
       "\n",
       "    .dataframe thead th {\n",
       "        text-align: right;\n",
       "    }\n",
       "</style>\n",
       "<table border=\"1\" class=\"dataframe\">\n",
       "  <thead>\n",
       "    <tr style=\"text-align: right;\">\n",
       "      <th></th>\n",
       "      <th>show_id</th>\n",
       "      <th>type</th>\n",
       "      <th>title</th>\n",
       "      <th>director</th>\n",
       "      <th>cast</th>\n",
       "      <th>country</th>\n",
       "      <th>date_added</th>\n",
       "      <th>release_year</th>\n",
       "      <th>rating</th>\n",
       "      <th>duration</th>\n",
       "      <th>listed_in</th>\n",
       "      <th>description</th>\n",
       "    </tr>\n",
       "  </thead>\n",
       "  <tbody>\n",
       "    <tr>\n",
       "      <th>0</th>\n",
       "      <td>s1</td>\n",
       "      <td>TV Show</td>\n",
       "      <td>3%</td>\n",
       "      <td>NaN</td>\n",
       "      <td>João Miguel, Bianca Comparato, Michel Gomes, R...</td>\n",
       "      <td>Brazil</td>\n",
       "      <td>August 14, 2020</td>\n",
       "      <td>2020</td>\n",
       "      <td>TV-MA</td>\n",
       "      <td>4 Seasons</td>\n",
       "      <td>International TV Shows, TV Dramas, TV Sci-Fi &amp;...</td>\n",
       "      <td>In a future where the elite inhabit an island ...</td>\n",
       "    </tr>\n",
       "    <tr>\n",
       "      <th>1</th>\n",
       "      <td>s2</td>\n",
       "      <td>Movie</td>\n",
       "      <td>7:19</td>\n",
       "      <td>Jorge Michel Grau</td>\n",
       "      <td>Demián Bichir, Héctor Bonilla, Oscar Serrano, ...</td>\n",
       "      <td>Mexico</td>\n",
       "      <td>December 23, 2016</td>\n",
       "      <td>2016</td>\n",
       "      <td>TV-MA</td>\n",
       "      <td>93 min</td>\n",
       "      <td>Dramas, International Movies</td>\n",
       "      <td>After a devastating earthquake hits Mexico Cit...</td>\n",
       "    </tr>\n",
       "    <tr>\n",
       "      <th>2</th>\n",
       "      <td>s3</td>\n",
       "      <td>Movie</td>\n",
       "      <td>23:59</td>\n",
       "      <td>Gilbert Chan</td>\n",
       "      <td>Tedd Chan, Stella Chung, Henley Hii, Lawrence ...</td>\n",
       "      <td>Singapore</td>\n",
       "      <td>December 20, 2018</td>\n",
       "      <td>2011</td>\n",
       "      <td>R</td>\n",
       "      <td>78 min</td>\n",
       "      <td>Horror Movies, International Movies</td>\n",
       "      <td>When an army recruit is found dead, his fellow...</td>\n",
       "    </tr>\n",
       "    <tr>\n",
       "      <th>3</th>\n",
       "      <td>s4</td>\n",
       "      <td>Movie</td>\n",
       "      <td>9</td>\n",
       "      <td>Shane Acker</td>\n",
       "      <td>Elijah Wood, John C. Reilly, Jennifer Connelly...</td>\n",
       "      <td>United States</td>\n",
       "      <td>November 16, 2017</td>\n",
       "      <td>2009</td>\n",
       "      <td>PG-13</td>\n",
       "      <td>80 min</td>\n",
       "      <td>Action &amp; Adventure, Independent Movies, Sci-Fi...</td>\n",
       "      <td>In a postapocalyptic world, rag-doll robots hi...</td>\n",
       "    </tr>\n",
       "    <tr>\n",
       "      <th>4</th>\n",
       "      <td>s5</td>\n",
       "      <td>Movie</td>\n",
       "      <td>21</td>\n",
       "      <td>Robert Luketic</td>\n",
       "      <td>Jim Sturgess, Kevin Spacey, Kate Bosworth, Aar...</td>\n",
       "      <td>United States</td>\n",
       "      <td>January 1, 2020</td>\n",
       "      <td>2008</td>\n",
       "      <td>PG-13</td>\n",
       "      <td>123 min</td>\n",
       "      <td>Dramas</td>\n",
       "      <td>A brilliant group of students become card-coun...</td>\n",
       "    </tr>\n",
       "  </tbody>\n",
       "</table>\n",
       "</div>"
      ],
      "text/plain": [
       "  show_id     type  title           director  \\\n",
       "0      s1  TV Show     3%                NaN   \n",
       "1      s2    Movie   7:19  Jorge Michel Grau   \n",
       "2      s3    Movie  23:59       Gilbert Chan   \n",
       "3      s4    Movie      9        Shane Acker   \n",
       "4      s5    Movie     21     Robert Luketic   \n",
       "\n",
       "                                                cast        country  \\\n",
       "0  João Miguel, Bianca Comparato, Michel Gomes, R...         Brazil   \n",
       "1  Demián Bichir, Héctor Bonilla, Oscar Serrano, ...         Mexico   \n",
       "2  Tedd Chan, Stella Chung, Henley Hii, Lawrence ...      Singapore   \n",
       "3  Elijah Wood, John C. Reilly, Jennifer Connelly...  United States   \n",
       "4  Jim Sturgess, Kevin Spacey, Kate Bosworth, Aar...  United States   \n",
       "\n",
       "          date_added  release_year rating   duration  \\\n",
       "0    August 14, 2020          2020  TV-MA  4 Seasons   \n",
       "1  December 23, 2016          2016  TV-MA     93 min   \n",
       "2  December 20, 2018          2011      R     78 min   \n",
       "3  November 16, 2017          2009  PG-13     80 min   \n",
       "4    January 1, 2020          2008  PG-13    123 min   \n",
       "\n",
       "                                           listed_in  \\\n",
       "0  International TV Shows, TV Dramas, TV Sci-Fi &...   \n",
       "1                       Dramas, International Movies   \n",
       "2                Horror Movies, International Movies   \n",
       "3  Action & Adventure, Independent Movies, Sci-Fi...   \n",
       "4                                             Dramas   \n",
       "\n",
       "                                         description  \n",
       "0  In a future where the elite inhabit an island ...  \n",
       "1  After a devastating earthquake hits Mexico Cit...  \n",
       "2  When an army recruit is found dead, his fellow...  \n",
       "3  In a postapocalyptic world, rag-doll robots hi...  \n",
       "4  A brilliant group of students become card-coun...  "
      ]
     },
     "execution_count": 126,
     "metadata": {},
     "output_type": "execute_result"
    }
   ],
   "source": [
    "# Importing csv file as df\n",
    "\n",
    "netflixdf = pd.read_csv('netflix_titles.csv')\n",
    "\n",
    "# Viewing df information\n",
    "netflixdf.head()"
   ]
  },
  {
   "cell_type": "code",
   "execution_count": 127,
   "metadata": {},
   "outputs": [
    {
     "name": "stdout",
     "output_type": "stream",
     "text": [
      "<class 'pandas.core.frame.DataFrame'>\n",
      "RangeIndex: 7787 entries, 0 to 7786\n",
      "Data columns (total 12 columns):\n",
      " #   Column        Non-Null Count  Dtype \n",
      "---  ------        --------------  ----- \n",
      " 0   show_id       7787 non-null   object\n",
      " 1   type          7787 non-null   object\n",
      " 2   title         7787 non-null   object\n",
      " 3   director      5398 non-null   object\n",
      " 4   cast          7069 non-null   object\n",
      " 5   country       7280 non-null   object\n",
      " 6   date_added    7777 non-null   object\n",
      " 7   release_year  7787 non-null   int64 \n",
      " 8   rating        7780 non-null   object\n",
      " 9   duration      7787 non-null   object\n",
      " 10  listed_in     7787 non-null   object\n",
      " 11  description   7787 non-null   object\n",
      "dtypes: int64(1), object(11)\n",
      "memory usage: 730.2+ KB\n"
     ]
    }
   ],
   "source": [
    "netflixdf.info()"
   ]
  },
  {
   "cell_type": "code",
   "execution_count": 128,
   "metadata": {},
   "outputs": [
    {
     "data": {
      "text/plain": [
       "Index(['show_id', 'type', 'title', 'director', 'cast', 'country', 'date_added',\n",
       "       'release_year', 'rating', 'duration', 'listed_in', 'description'],\n",
       "      dtype='object')"
      ]
     },
     "execution_count": 128,
     "metadata": {},
     "output_type": "execute_result"
    }
   ],
   "source": [
    "netflixdf.columns"
   ]
  },
  {
   "cell_type": "markdown",
   "metadata": {},
   "source": [
    "### Data Cleaning/Preparation"
   ]
  },
  {
   "cell_type": "code",
   "execution_count": 129,
   "metadata": {},
   "outputs": [],
   "source": [
    "# Renaming columns\n",
    "netflixdf = netflixdf.rename(columns={\n",
    "    \"show_id\": \"Show id\",\n",
    "    \"type\": \"Type\",\n",
    "    \"title\": \"Title\",\n",
    "    \"director\": \"Director\",\n",
    "    \"cast\": \"Cast\",\n",
    "    \"country\": \"Country\",\n",
    "    \"date_added\": \"Date added\",\n",
    "    \"release year\": \"Release year\",\n",
    "    \"rating\": \"Guidance rating\",\n",
    "    \"duration\": \"Duration\",\n",
    "    \"listed_in\": \"Genres\",\n",
    "    \"description\": \"Description\"\n",
    "})\n",
    "\n",
    "# Removing all rows that contain NaN values in certain columns\n",
    "netflixdf = netflixdf[netflixdf['Cast'].notna()]\n",
    "netflixdf = netflixdf[netflixdf['Country'].notna()]\n",
    "\n",
    "# Changing show_id column to not contain the \"s\" and converting the Series to integer values\n",
    "netflixdf['Show id'] = netflixdf['Show id'].apply(lambda show_id: show_id.split('s')[1])\n",
    "\n",
    "# Converting date column to date type\n",
    "netflixdf['Date added'] = pd.to_datetime(netflixdf['Date added'])\n",
    "\n",
    "# Converting cast column to a list of values\n",
    "netflixdf['Cast'] = netflixdf['Cast'].apply(lambda x: x.split(', '))\n",
    "\n",
    "# Creating new column for date_added year value and convert it from float to int\n",
    "netflixdf['Date added(Year)'] = netflixdf['Date added'].apply(\n",
    "    lambda date: date.year\n",
    ")\n",
    "\n",
    "# Removing NaN values from date_added_year column\n",
    "netflixdf = netflixdf[netflixdf['Date added(Year)'].notna()]\n",
    "\n",
    "netflixdf = netflixdf.astype({'Date added(Year)': int})"
   ]
  },
  {
   "cell_type": "markdown",
   "metadata": {},
   "source": [
    "### Analysis"
   ]
  },
  {
   "cell_type": "code",
   "execution_count": 130,
   "metadata": {},
   "outputs": [],
   "source": [
    "# Creating a dictionary of (actor/actress: number of appearances) key value pairs\n",
    "\n",
    "cast_dict = {}\n",
    "\n",
    "for cast in netflixdf['Cast']:\n",
    "    for person in cast:\n",
    "        if person in cast_dict:\n",
    "            cast_dict[person] += 1\n",
    "        else:\n",
    "            cast_dict[person] = 1"
   ]
  },
  {
   "cell_type": "code",
   "execution_count": 131,
   "metadata": {},
   "outputs": [],
   "source": [
    "# Finding out who has the most appearances\n",
    "mostappeared = max(cast_dict, key=cast_dict.get)"
   ]
  },
  {
   "cell_type": "code",
   "execution_count": 132,
   "metadata": {},
   "outputs": [
    {
     "name": "stdout",
     "output_type": "stream",
     "text": [
      "Anupam Kher has been in the most Netflix films/movies with 42 appearances.\n"
     ]
    }
   ],
   "source": [
    "print(f\"{mostappeared} has been in the most Netflix films/movies with {cast_dict[mostappeared]} appearances.\")"
   ]
  },
  {
   "cell_type": "code",
   "execution_count": 133,
   "metadata": {},
   "outputs": [
    {
     "name": "stdout",
     "output_type": "stream",
     "text": [
      "1: Anupam Kher with 42 apperances.\n",
      "2: Shah Rukh Khan with 34 apperances.\n",
      "3: Om Puri with 30 apperances.\n",
      "4: Naseeruddin Shah with 29 apperances.\n",
      "5: Akshay Kumar with 29 apperances.\n"
     ]
    }
   ],
   "source": [
    "# Another way to show the 5 cast members with most appearances in order\n",
    "top_5_most_appeared = sorted(cast_dict, key=cast_dict.get, reverse=True)[:5]\n",
    "\n",
    "for i in range(len(top_5_most_appeared)):\n",
    "    print(f\"{i+1}: {top_5_most_appeared[i]} with {cast_dict[top_5_most_appeared[i]]} apperances.\")"
   ]
  },
  {
   "cell_type": "code",
   "execution_count": 159,
   "metadata": {},
   "outputs": [
    {
     "data": {
      "text/plain": [
       "3616"
      ]
     },
     "execution_count": 159,
     "metadata": {},
     "output_type": "execute_result"
    }
   ],
   "source": [
    "# How many different directors are there in this dataset\n",
    "len(netflixdf['Director'].unique())"
   ]
  },
  {
   "cell_type": "code",
   "execution_count": 185,
   "metadata": {},
   "outputs": [
    {
     "data": {
      "text/plain": [
       "'Raúl Campos, Jan Suter'"
      ]
     },
     "execution_count": 185,
     "metadata": {},
     "output_type": "execute_result"
    }
   ],
   "source": [
    "# Who has directed the most movies\n",
    "most_directed = netflixdf['Director'].mode()[0]\n",
    "most_directed"
   ]
  },
  {
   "cell_type": "markdown",
   "metadata": {},
   "source": [
    "### Visualizations"
   ]
  },
  {
   "cell_type": "code",
   "execution_count": 144,
   "metadata": {},
   "outputs": [
    {
     "data": {
      "text/plain": [
       "<seaborn.axisgrid.FacetGrid at 0x199fdc22850>"
      ]
     },
     "execution_count": 144,
     "metadata": {},
     "output_type": "execute_result"
    },
    {
     "data": {
      "image/png": "[encoded data removed]",
      "text/plain": [
       "<Figure size 864x720 with 4 Axes>"
      ]
     },
     "metadata": {
      "needs_background": "light"
     },
     "output_type": "display_data"
    }
   ],
   "source": [
    "# Count plot of number of movies and number of TV shows in total from 2014 - 2020\n",
    "sns.catplot(x='Type',\n",
    "            col='Date added(Year)',\n",
    "            data=netflixdf[(netflixdf['Date added(Year)'] == 2014) |\n",
    "                           (netflixdf['Date added(Year)'] == 2016) |\n",
    "                           (netflixdf['Date added(Year)'] == 2018) |\n",
    "                           (netflixdf['Date added(Year)'] == 2020)],\n",
    "            kind='count',\n",
    "            col_wrap = 3,\n",
    "            aspect=0.8,\n",
    "            palette='pastel')"
   ]
  },
  {
   "cell_type": "markdown",
   "metadata": {},
   "source": [
    "We can see that the number of titles whether TV shows or Movies added onto Netflix each year has increased dramatically over time. Further, we can see that the number of movies added each year has increased dramatically from 2014 through to 2016 but from 2016 onwards it appears that the number of TV shows increases while the number of Movies remains roughly the same."
   ]
  },
  {
   "cell_type": "code",
   "execution_count": 143,
   "metadata": {},
   "outputs": [
    {
     "data": {
      "text/plain": [
       "<seaborn.axisgrid.FacetGrid at 0x199ff17c5e0>"
      ]
     },
     "execution_count": 143,
     "metadata": {},
     "output_type": "execute_result"
    },
    {
     "data": {
      "image/png": "[encoded data removed]",
      "text/plain": [
       "<Figure size 952.375x720 with 4 Axes>"
      ]
     },
     "metadata": {
      "needs_background": "light"
     },
     "output_type": "display_data"
    }
   ],
   "source": [
    "# Count plot of number of movies and number of TV shows in total from 2014 - 2020 filtered by ratings\n",
    "\n",
    "\n",
    "sns.catplot(x='Type',\n",
    "            col='Date added(Year)',\n",
    "            hue='Guidance rating',\n",
    "            data=netflixdf[(netflixdf['Date added(Year)'] == 2014) |\n",
    "                           (netflixdf['Date added(Year)'] == 2016) |\n",
    "                           (netflixdf['Date added(Year)'] == 2018) |\n",
    "                           (netflixdf['Date added(Year)'] == 2020)],\n",
    "            kind='count',\n",
    "            col_wrap = 3,\n",
    "            aspect=0.8,\n",
    "            palette='pastel')"
   ]
  },
  {
   "cell_type": "markdown",
   "metadata": {},
   "source": [
    "This visualization is the same as the one above with one minor change being now we are filtering based on the safety ratings of the show. The rating that stands out the most is TV-MA which is Mature Audience. TV-MA seems to always be in high numbers relative to the total number of titles, however we do see an increase in TV-MA types to TV Shows as the years progress. We also see that the number of TV-14 TV Show's and Movie's have increased dramatically over the years. This suggests that the most popular types of titles on Netflix are of type TV-MA and TV-14, that is, Netflix's audience appears to be more mature or at least, enjoy more mature content."
   ]
  },
  {
   "cell_type": "code",
   "execution_count": 80,
   "metadata": {},
   "outputs": [],
   "source": [
    "# Finding year with the most titles added\n",
    "\n",
    "year_added_series = netflixdf.groupby('Date added(Year)')['Title'].nunique()"
   ]
  },
  {
   "cell_type": "code",
   "execution_count": 81,
   "metadata": {},
   "outputs": [
    {
     "data": {
      "text/plain": [
       "Date added(Year)\n",
       "2019    1848\n",
       "Name: Title, dtype: int64"
      ]
     },
     "execution_count": 81,
     "metadata": {},
     "output_type": "execute_result"
    }
   ],
   "source": [
    "year_added_series.sort_values().iloc[[len(year_added_series) -1]]"
   ]
  },
  {
   "cell_type": "code",
   "execution_count": 145,
   "metadata": {},
   "outputs": [
    {
     "data": {
      "text/plain": [
       "<AxesSubplot:xlabel='Type', ylabel='count'>"
      ]
     },
     "execution_count": 145,
     "metadata": {},
     "output_type": "execute_result"
    },
    {
     "data": {
      "image/png": "[encoded data removed]",
      "text/plain": [
       "<Figure size 432x288 with 1 Axes>"
      ]
     },
     "metadata": {
      "needs_background": "light"
     },
     "output_type": "display_data"
    }
   ],
   "source": [
    "# We can vizualize this and it's separation of Movie and TV Show.\n",
    "\n",
    "sns.countplot(x='Type', data=netflixdf[netflixdf['Date added(Year)'] == 2019], palette='pastel')"
   ]
  },
  {
   "cell_type": "code",
   "execution_count": 114,
   "metadata": {},
   "outputs": [],
   "source": [
    "# Creating a vizualization of the countrys with the most titles released\n",
    "\n",
    "country_dict = {}\n",
    "\n",
    "for countrys in netflixdf['Country']:\n",
    "        country_list = countrys.split(\", \")\n",
    "        for country in country_list:\n",
    "            if country in country_dict:\n",
    "                country_dict[country] += 1\n",
    "            else:\n",
    "                country_dict[country] = 1"
   ]
  },
  {
   "cell_type": "code",
   "execution_count": 115,
   "metadata": {},
   "outputs": [],
   "source": [
    "countrydf = pd.Series(country_dict).to_frame('Appearances')\n",
    "countrydf = countrydf.reset_index()\n",
    "countrydf = countrydf.rename(columns={\"index\": \"Country\"})"
   ]
  },
  {
   "cell_type": "code",
   "execution_count": 120,
   "metadata": {},
   "outputs": [],
   "source": [
    "top5_countrydf = countrydf.sort_values(by='Appearances', ascending=False)[0:5]"
   ]
  },
  {
   "cell_type": "code",
   "execution_count": 146,
   "metadata": {},
   "outputs": [
    {
     "data": {
      "text/plain": [
       "<AxesSubplot:xlabel='Country', ylabel='Appearances'>"
      ]
     },
     "execution_count": 146,
     "metadata": {},
     "output_type": "execute_result"
    },
    {
     "data": {
      "image/png": "[encoded data removed]",
      "text/plain": [
       "<Figure size 432x288 with 1 Axes>"
      ]
     },
     "metadata": {
      "needs_background": "light"
     },
     "output_type": "display_data"
    }
   ],
   "source": [
    "sns.barplot(x='Country', y='Appearances', data=top5_countrydf, palette='pastel')"
   ]
  },
  {
   "cell_type": "code",
   "execution_count": 201,
   "metadata": {},
   "outputs": [
    {
     "ename": "NameError",
     "evalue": "name 'netflixdf_top_countriesdf' is not defined",
     "output_type": "error",
     "traceback": [
      "\u001b[1;31m---------------------------------------------------------------------------\u001b[0m",
      "\u001b[1;31mNameError\u001b[0m                                 Traceback (most recent call last)",
      "\u001b[1;32m<ipython-input-201-6d94af4beec8>\u001b[0m in \u001b[0;36m<module>\u001b[1;34m\u001b[0m\n\u001b[1;32m----> 1\u001b[1;33m \u001b[0mnetflixdf_top_countriesdf\u001b[0m\u001b[1;33m\u001b[0m\u001b[1;33m\u001b[0m\u001b[0m\n\u001b[0m",
      "\u001b[1;31mNameError\u001b[0m: name 'netflixdf_top_countriesdf' is not defined"
     ]
    }
   ],
   "source": []
  },
  {
   "cell_type": "code",
   "execution_count": 208,
   "metadata": {},
   "outputs": [
    {
     "data": {
      "image/png": "[encoded data removed]",
      "text/plain": [
       "<Figure size 864x720 with 4 Axes>"
      ]
     },
     "metadata": {
      "needs_background": "light"
     },
     "output_type": "display_data"
    }
   ],
   "source": [
    "netflix_top_countriesdf = netflixdf[netflixdf['Country'].isin(['United States', 'India', 'United Kingdom', 'Canada', 'France'])]\n",
    "\n",
    "g = sns.catplot(x='Country',\n",
    "            col='Date added(Year)',\n",
    "            data=netflix_top_countriesdf[(netflix_top_countriesdf['Date added(Year)'] == 2014) |\n",
    "                           (netflix_top_countriesdf['Date added(Year)'] == 2016) |\n",
    "                           (netflix_top_countriesdf['Date added(Year)'] == 2018) |\n",
    "                           (netflix_top_countriesdf['Date added(Year)'] == 2020)],\n",
    "            kind='count',\n",
    "            col_wrap = 3,\n",
    "            aspect=0.8,\n",
    "            palette='pastel')\n",
    "\n",
    "g.set_xticklabels(rotation=45)\n",
    "plt.tight_layout()"
   ]
  },
  {
   "cell_type": "code",
   "execution_count": 204,
   "metadata": {},
   "outputs": [
    {
     "data": {
      "text/html": [
       "<div>\n",
       "<style scoped>\n",
       "    .dataframe tbody tr th:only-of-type {\n",
       "        vertical-align: middle;\n",
       "    }\n",
       "\n",
       "    .dataframe tbody tr th {\n",
       "        vertical-align: top;\n",
       "    }\n",
       "\n",
       "    .dataframe thead th {\n",
       "        text-align: right;\n",
       "    }\n",
       "</style>\n",
       "<table border=\"1\" class=\"dataframe\">\n",
       "  <thead>\n",
       "    <tr style=\"text-align: right;\">\n",
       "      <th></th>\n",
       "      <th>Show id</th>\n",
       "      <th>Type</th>\n",
       "      <th>Title</th>\n",
       "      <th>Director</th>\n",
       "      <th>Cast</th>\n",
       "      <th>Country</th>\n",
       "      <th>Date added</th>\n",
       "      <th>release_year</th>\n",
       "      <th>Guidance rating</th>\n",
       "      <th>Duration</th>\n",
       "      <th>Genres</th>\n",
       "      <th>Description</th>\n",
       "      <th>Date added(Year)</th>\n",
       "    </tr>\n",
       "  </thead>\n",
       "  <tbody>\n",
       "    <tr>\n",
       "      <th>3</th>\n",
       "      <td>4</td>\n",
       "      <td>Movie</td>\n",
       "      <td>9</td>\n",
       "      <td>Shane Acker</td>\n",
       "      <td>[Elijah Wood, John C. Reilly, Jennifer Connell...</td>\n",
       "      <td>United States</td>\n",
       "      <td>2017-11-16</td>\n",
       "      <td>2009</td>\n",
       "      <td>PG-13</td>\n",
       "      <td>80 min</td>\n",
       "      <td>Action &amp; Adventure, Independent Movies, Sci-Fi...</td>\n",
       "      <td>In a postapocalyptic world, rag-doll robots hi...</td>\n",
       "      <td>2017</td>\n",
       "    </tr>\n",
       "    <tr>\n",
       "      <th>4</th>\n",
       "      <td>5</td>\n",
       "      <td>Movie</td>\n",
       "      <td>21</td>\n",
       "      <td>Robert Luketic</td>\n",
       "      <td>[Jim Sturgess, Kevin Spacey, Kate Bosworth, Aa...</td>\n",
       "      <td>United States</td>\n",
       "      <td>2020-01-01</td>\n",
       "      <td>2008</td>\n",
       "      <td>PG-13</td>\n",
       "      <td>123 min</td>\n",
       "      <td>Dramas</td>\n",
       "      <td>A brilliant group of students become card-coun...</td>\n",
       "      <td>2020</td>\n",
       "    </tr>\n",
       "    <tr>\n",
       "      <th>7</th>\n",
       "      <td>8</td>\n",
       "      <td>Movie</td>\n",
       "      <td>187</td>\n",
       "      <td>Kevin Reynolds</td>\n",
       "      <td>[Samuel L. Jackson, John Heard, Kelly Rowan, C...</td>\n",
       "      <td>United States</td>\n",
       "      <td>2019-11-01</td>\n",
       "      <td>1997</td>\n",
       "      <td>R</td>\n",
       "      <td>119 min</td>\n",
       "      <td>Dramas</td>\n",
       "      <td>After one of his high school students attacks ...</td>\n",
       "      <td>2019</td>\n",
       "    </tr>\n",
       "    <tr>\n",
       "      <th>8</th>\n",
       "      <td>9</td>\n",
       "      <td>Movie</td>\n",
       "      <td>706</td>\n",
       "      <td>Shravan Kumar</td>\n",
       "      <td>[Divya Dutta, Atul Kulkarni, Mohan Agashe, Anu...</td>\n",
       "      <td>India</td>\n",
       "      <td>2019-04-01</td>\n",
       "      <td>2019</td>\n",
       "      <td>TV-14</td>\n",
       "      <td>118 min</td>\n",
       "      <td>Horror Movies, International Movies</td>\n",
       "      <td>When a doctor goes missing, his psychiatrist w...</td>\n",
       "      <td>2019</td>\n",
       "    </tr>\n",
       "    <tr>\n",
       "      <th>9</th>\n",
       "      <td>10</td>\n",
       "      <td>Movie</td>\n",
       "      <td>1920</td>\n",
       "      <td>Vikram Bhatt</td>\n",
       "      <td>[Rajneesh Duggal, Adah Sharma, Indraneil Sengu...</td>\n",
       "      <td>India</td>\n",
       "      <td>2017-12-15</td>\n",
       "      <td>2008</td>\n",
       "      <td>TV-MA</td>\n",
       "      <td>143 min</td>\n",
       "      <td>Horror Movies, International Movies, Thrillers</td>\n",
       "      <td>An architect and his wife move into a castle t...</td>\n",
       "      <td>2017</td>\n",
       "    </tr>\n",
       "    <tr>\n",
       "      <th>...</th>\n",
       "      <td>...</td>\n",
       "      <td>...</td>\n",
       "      <td>...</td>\n",
       "      <td>...</td>\n",
       "      <td>...</td>\n",
       "      <td>...</td>\n",
       "      <td>...</td>\n",
       "      <td>...</td>\n",
       "      <td>...</td>\n",
       "      <td>...</td>\n",
       "      <td>...</td>\n",
       "      <td>...</td>\n",
       "      <td>...</td>\n",
       "    </tr>\n",
       "    <tr>\n",
       "      <th>7776</th>\n",
       "      <td>7777</td>\n",
       "      <td>Movie</td>\n",
       "      <td>Zokkomon</td>\n",
       "      <td>Satyajit Bhatkal</td>\n",
       "      <td>[Darsheel Safary, Anupam Kher, Manjari Fadnis,...</td>\n",
       "      <td>India</td>\n",
       "      <td>2018-11-01</td>\n",
       "      <td>2011</td>\n",
       "      <td>PG</td>\n",
       "      <td>104 min</td>\n",
       "      <td>Children &amp; Family Movies, Dramas</td>\n",
       "      <td>When his cruel uncle abandons him, a young orp...</td>\n",
       "      <td>2018</td>\n",
       "    </tr>\n",
       "    <tr>\n",
       "      <th>7778</th>\n",
       "      <td>7779</td>\n",
       "      <td>Movie</td>\n",
       "      <td>Zombieland</td>\n",
       "      <td>Ruben Fleischer</td>\n",
       "      <td>[Jesse Eisenberg, Woody Harrelson, Emma Stone,...</td>\n",
       "      <td>United States</td>\n",
       "      <td>2019-11-01</td>\n",
       "      <td>2009</td>\n",
       "      <td>R</td>\n",
       "      <td>88 min</td>\n",
       "      <td>Comedies, Horror Movies</td>\n",
       "      <td>Looking to survive in a world taken over by zo...</td>\n",
       "      <td>2019</td>\n",
       "    </tr>\n",
       "    <tr>\n",
       "      <th>7780</th>\n",
       "      <td>7781</td>\n",
       "      <td>Movie</td>\n",
       "      <td>Zoo</td>\n",
       "      <td>Shlok Sharma</td>\n",
       "      <td>[Shashank Arora, Shweta Tripathi, Rahul Kumar,...</td>\n",
       "      <td>India</td>\n",
       "      <td>2018-07-01</td>\n",
       "      <td>2018</td>\n",
       "      <td>TV-MA</td>\n",
       "      <td>94 min</td>\n",
       "      <td>Dramas, Independent Movies, International Movies</td>\n",
       "      <td>A drug dealer starts having doubts about his t...</td>\n",
       "      <td>2018</td>\n",
       "    </tr>\n",
       "    <tr>\n",
       "      <th>7781</th>\n",
       "      <td>7782</td>\n",
       "      <td>Movie</td>\n",
       "      <td>Zoom</td>\n",
       "      <td>Peter Hewitt</td>\n",
       "      <td>[Tim Allen, Courteney Cox, Chevy Chase, Kate M...</td>\n",
       "      <td>United States</td>\n",
       "      <td>2020-01-11</td>\n",
       "      <td>2006</td>\n",
       "      <td>PG</td>\n",
       "      <td>88 min</td>\n",
       "      <td>Children &amp; Family Movies, Comedies</td>\n",
       "      <td>Dragged from civilian life, a former superhero...</td>\n",
       "      <td>2020</td>\n",
       "    </tr>\n",
       "    <tr>\n",
       "      <th>7783</th>\n",
       "      <td>7784</td>\n",
       "      <td>Movie</td>\n",
       "      <td>Zubaan</td>\n",
       "      <td>Mozez Singh</td>\n",
       "      <td>[Vicky Kaushal, Sarah-Jane Dias, Raaghav Chana...</td>\n",
       "      <td>India</td>\n",
       "      <td>2019-03-02</td>\n",
       "      <td>2015</td>\n",
       "      <td>TV-14</td>\n",
       "      <td>111 min</td>\n",
       "      <td>Dramas, International Movies, Music &amp; Musicals</td>\n",
       "      <td>A scrappy but poor boy worms his way into a ty...</td>\n",
       "      <td>2019</td>\n",
       "    </tr>\n",
       "  </tbody>\n",
       "</table>\n",
       "<p>3728 rows × 13 columns</p>\n",
       "</div>"
      ],
      "text/plain": [
       "     Show id   Type       Title          Director  \\\n",
       "3          4  Movie           9       Shane Acker   \n",
       "4          5  Movie          21    Robert Luketic   \n",
       "7          8  Movie         187    Kevin Reynolds   \n",
       "8          9  Movie         706     Shravan Kumar   \n",
       "9         10  Movie        1920      Vikram Bhatt   \n",
       "...      ...    ...         ...               ...   \n",
       "7776    7777  Movie    Zokkomon  Satyajit Bhatkal   \n",
       "7778    7779  Movie  Zombieland   Ruben Fleischer   \n",
       "7780    7781  Movie         Zoo      Shlok Sharma   \n",
       "7781    7782  Movie        Zoom      Peter Hewitt   \n",
       "7783    7784  Movie      Zubaan       Mozez Singh   \n",
       "\n",
       "                                                   Cast        Country  \\\n",
       "3     [Elijah Wood, John C. Reilly, Jennifer Connell...  United States   \n",
       "4     [Jim Sturgess, Kevin Spacey, Kate Bosworth, Aa...  United States   \n",
       "7     [Samuel L. Jackson, John Heard, Kelly Rowan, C...  United States   \n",
       "8     [Divya Dutta, Atul Kulkarni, Mohan Agashe, Anu...          India   \n",
       "9     [Rajneesh Duggal, Adah Sharma, Indraneil Sengu...          India   \n",
       "...                                                 ...            ...   \n",
       "7776  [Darsheel Safary, Anupam Kher, Manjari Fadnis,...          India   \n",
       "7778  [Jesse Eisenberg, Woody Harrelson, Emma Stone,...  United States   \n",
       "7780  [Shashank Arora, Shweta Tripathi, Rahul Kumar,...          India   \n",
       "7781  [Tim Allen, Courteney Cox, Chevy Chase, Kate M...  United States   \n",
       "7783  [Vicky Kaushal, Sarah-Jane Dias, Raaghav Chana...          India   \n",
       "\n",
       "     Date added  release_year Guidance rating Duration  \\\n",
       "3    2017-11-16          2009           PG-13   80 min   \n",
       "4    2020-01-01          2008           PG-13  123 min   \n",
       "7    2019-11-01          1997               R  119 min   \n",
       "8    2019-04-01          2019           TV-14  118 min   \n",
       "9    2017-12-15          2008           TV-MA  143 min   \n",
       "...         ...           ...             ...      ...   \n",
       "7776 2018-11-01          2011              PG  104 min   \n",
       "7778 2019-11-01          2009               R   88 min   \n",
       "7780 2018-07-01          2018           TV-MA   94 min   \n",
       "7781 2020-01-11          2006              PG   88 min   \n",
       "7783 2019-03-02          2015           TV-14  111 min   \n",
       "\n",
       "                                                 Genres  \\\n",
       "3     Action & Adventure, Independent Movies, Sci-Fi...   \n",
       "4                                                Dramas   \n",
       "7                                                Dramas   \n",
       "8                   Horror Movies, International Movies   \n",
       "9        Horror Movies, International Movies, Thrillers   \n",
       "...                                                 ...   \n",
       "7776                   Children & Family Movies, Dramas   \n",
       "7778                            Comedies, Horror Movies   \n",
       "7780   Dramas, Independent Movies, International Movies   \n",
       "7781                 Children & Family Movies, Comedies   \n",
       "7783     Dramas, International Movies, Music & Musicals   \n",
       "\n",
       "                                            Description  Date added(Year)  \n",
       "3     In a postapocalyptic world, rag-doll robots hi...              2017  \n",
       "4     A brilliant group of students become card-coun...              2020  \n",
       "7     After one of his high school students attacks ...              2019  \n",
       "8     When a doctor goes missing, his psychiatrist w...              2019  \n",
       "9     An architect and his wife move into a castle t...              2017  \n",
       "...                                                 ...               ...  \n",
       "7776  When his cruel uncle abandons him, a young orp...              2018  \n",
       "7778  Looking to survive in a world taken over by zo...              2019  \n",
       "7780  A drug dealer starts having doubts about his t...              2018  \n",
       "7781  Dragged from civilian life, a former superhero...              2020  \n",
       "7783  A scrappy but poor boy worms his way into a ty...              2019  \n",
       "\n",
       "[3728 rows x 13 columns]"
      ]
     },
     "execution_count": 204,
     "metadata": {},
     "output_type": "execute_result"
    }
   ],
   "source": [
    "netflix_top_countriesdf"
   ]
  },
  {
   "cell_type": "code",
   "execution_count": null,
   "metadata": {},
   "outputs": [],
   "source": []
  }
 ],
 "metadata": {
  "kernelspec": {
   "display_name": "Python 3",
   "language": "python",
   "name": "python3"
  },
  "language_info": {
   "codemirror_mode": {
    "name": "ipython",
    "version": 3
   },
   "file_extension": ".py",
   "mimetype": "text/x-python",
   "name": "python",
   "nbconvert_exporter": "python",
   "pygments_lexer": "ipython3",
   "version": "3.8.5"
  }
 },
 "nbformat": 4,
 "nbformat_minor": 4
}
